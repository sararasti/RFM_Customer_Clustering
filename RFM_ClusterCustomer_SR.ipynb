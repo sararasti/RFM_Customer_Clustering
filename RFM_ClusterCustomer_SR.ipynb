{
 "cells": [
  {
   "cell_type": "markdown",
   "id": "f9f4713f",
   "metadata": {
    "pycharm": {
     "name": "#%%\n"
    }
   },
   "source": [
    "### import necessary libraries"
   ]
  },
  {
   "cell_type": "code",
   "execution_count": 1,
   "id": "bf4084da",
   "metadata": {},
   "outputs": [],
   "source": [
    "import pandas as pd\n",
    "import datetime as dt\n",
    "import numpy as np\n",
    "import matplotlib.pyplot as plt\n",
    "from datetime import date\n",
    "from yellowbrick.cluster import KElbowVisualizer\n",
    "from sklearn.cluster import KMeans\n",
    "lable=KMeans\n",
    "from sklearn.cluster import KMeans\n",
    "import scipy.cluster.hierarchy as hierar\n",
    "import seaborn as sns"
   ]
  },
  {
   "cell_type": "markdown",
   "id": "80ed0c83",
   "metadata": {},
   "source": [
    "### Load data from an Excel file"
   ]
  },
  {
   "cell_type": "code",
   "execution_count": 2,
   "id": "95b730c8",
   "metadata": {},
   "outputs": [],
   "source": [
    "    df_Customer_sales=pd.read_excel('RFM.xlsx')"
   ]
  },
  {
   "cell_type": "code",
   "execution_count": 3,
   "id": "158e201c",
   "metadata": {
    "pycharm": {
     "name": "#%%\n"
    }
   },
   "outputs": [
    {
     "data": {
      "text/html": [
       "<div>\n",
       "<style scoped>\n",
       "    .dataframe tbody tr th:only-of-type {\n",
       "        vertical-align: middle;\n",
       "    }\n",
       "\n",
       "    .dataframe tbody tr th {\n",
       "        vertical-align: top;\n",
       "    }\n",
       "\n",
       "    .dataframe thead th {\n",
       "        text-align: right;\n",
       "    }\n",
       "</style>\n",
       "<table border=\"1\" class=\"dataframe\">\n",
       "  <thead>\n",
       "    <tr style=\"text-align: right;\">\n",
       "      <th></th>\n",
       "      <th>CustomerCode</th>\n",
       "      <th>CreatedDate</th>\n",
       "      <th>QtyFinal</th>\n",
       "      <th>orderIncrementId</th>\n",
       "      <th>SaleAmount</th>\n",
       "      <th>productdiversity</th>\n",
       "    </tr>\n",
       "  </thead>\n",
       "  <tbody>\n",
       "    <tr>\n",
       "      <th>0</th>\n",
       "      <td>5209875</td>\n",
       "      <td>2023-05-16</td>\n",
       "      <td>19</td>\n",
       "      <td>648825.0</td>\n",
       "      <td>3000618.4</td>\n",
       "      <td>13</td>\n",
       "    </tr>\n",
       "    <tr>\n",
       "      <th>1</th>\n",
       "      <td>5209932</td>\n",
       "      <td>2022-07-30</td>\n",
       "      <td>4</td>\n",
       "      <td>593721.0</td>\n",
       "      <td>1201646.0</td>\n",
       "      <td>44</td>\n",
       "    </tr>\n",
       "    <tr>\n",
       "      <th>2</th>\n",
       "      <td>5209932</td>\n",
       "      <td>2022-08-17</td>\n",
       "      <td>4</td>\n",
       "      <td>595165.0</td>\n",
       "      <td>1189296.0</td>\n",
       "      <td>44</td>\n",
       "    </tr>\n",
       "    <tr>\n",
       "      <th>3</th>\n",
       "      <td>5209932</td>\n",
       "      <td>2022-05-05</td>\n",
       "      <td>2</td>\n",
       "      <td>585977.0</td>\n",
       "      <td>1408396.0</td>\n",
       "      <td>44</td>\n",
       "    </tr>\n",
       "    <tr>\n",
       "      <th>4</th>\n",
       "      <td>5209932</td>\n",
       "      <td>2022-05-04</td>\n",
       "      <td>3</td>\n",
       "      <td>585909.0</td>\n",
       "      <td>1193396.0</td>\n",
       "      <td>44</td>\n",
       "    </tr>\n",
       "  </tbody>\n",
       "</table>\n",
       "</div>"
      ],
      "text/plain": [
       "   CustomerCode CreatedDate  QtyFinal  orderIncrementId  SaleAmount  \\\n",
       "0       5209875  2023-05-16        19          648825.0   3000618.4   \n",
       "1       5209932  2022-07-30         4          593721.0   1201646.0   \n",
       "2       5209932  2022-08-17         4          595165.0   1189296.0   \n",
       "3       5209932  2022-05-05         2          585977.0   1408396.0   \n",
       "4       5209932  2022-05-04         3          585909.0   1193396.0   \n",
       "\n",
       "   productdiversity  \n",
       "0                13  \n",
       "1                44  \n",
       "2                44  \n",
       "3                44  \n",
       "4                44  "
      ]
     },
     "execution_count": 3,
     "metadata": {},
     "output_type": "execute_result"
    }
   ],
   "source": [
    "df_Customer_sales.head()"
   ]
  },
  {
   "cell_type": "markdown",
   "id": "46e5d346",
   "metadata": {},
   "source": [
    "### Remove row with missing CustomerCode"
   ]
  },
  {
   "cell_type": "code",
   "execution_count": 4,
   "id": "04e113cb",
   "metadata": {
    "pycharm": {
     "name": "#%%\n"
    }
   },
   "outputs": [
    {
     "data": {
      "text/plain": [
       "(57310, 6)"
      ]
     },
     "execution_count": 4,
     "metadata": {},
     "output_type": "execute_result"
    }
   ],
   "source": [
    "df_Customer_sales.dropna(subset=['CustomerCode'], how='all', inplace=True)\n",
    "df_Customer_sales.shape"
   ]
  },
  {
   "cell_type": "markdown",
   "id": "74236184",
   "metadata": {},
   "source": [
    "### Check data type and null values"
   ]
  },
  {
   "cell_type": "code",
   "execution_count": 5,
   "id": "7330cdf9",
   "metadata": {
    "pycharm": {
     "name": "#%%\n"
    }
   },
   "outputs": [
    {
     "data": {
      "text/plain": [
       "CustomerCode                 int64\n",
       "CreatedDate         datetime64[ns]\n",
       "QtyFinal                     int64\n",
       "orderIncrementId           float64\n",
       "SaleAmount                 float64\n",
       "productdiversity             int64\n",
       "dtype: object"
      ]
     },
     "execution_count": 5,
     "metadata": {},
     "output_type": "execute_result"
    }
   ],
   "source": [
    "df_Customer_sales.dtypes"
   ]
  },
  {
   "cell_type": "code",
   "execution_count": 6,
   "id": "96d652d5",
   "metadata": {},
   "outputs": [
    {
     "name": "stdout",
     "output_type": "stream",
     "text": [
      "<class 'pandas.core.frame.DataFrame'>\n",
      "RangeIndex: 57310 entries, 0 to 57309\n",
      "Data columns (total 6 columns):\n",
      " #   Column            Non-Null Count  Dtype         \n",
      "---  ------            --------------  -----         \n",
      " 0   CustomerCode      57310 non-null  int64         \n",
      " 1   CreatedDate       57310 non-null  datetime64[ns]\n",
      " 2   QtyFinal          57310 non-null  int64         \n",
      " 3   orderIncrementId  56777 non-null  float64       \n",
      " 4   SaleAmount        57310 non-null  float64       \n",
      " 5   productdiversity  57310 non-null  int64         \n",
      "dtypes: datetime64[ns](1), float64(2), int64(3)\n",
      "memory usage: 2.6 MB\n"
     ]
    }
   ],
   "source": [
    "df_Customer_sales.info()"
   ]
  },
  {
   "cell_type": "code",
   "execution_count": 7,
   "id": "259f1f23",
   "metadata": {
    "pycharm": {
     "name": "#%%\n"
    }
   },
   "outputs": [
    {
     "data": {
      "text/plain": [
       "orderIncrementId    533\n",
       "CustomerCode          0\n",
       "CreatedDate           0\n",
       "QtyFinal              0\n",
       "SaleAmount            0\n",
       "productdiversity      0\n",
       "dtype: int64"
      ]
     },
     "execution_count": 7,
     "metadata": {},
     "output_type": "execute_result"
    }
   ],
   "source": [
    "df_Customer_sales.isnull().sum().sort_values(ascending=False)"
   ]
  },
  {
   "cell_type": "markdown",
   "id": "b56f9b21",
   "metadata": {},
   "source": [
    "### Filter data base on quantity and sale amount"
   ]
  },
  {
   "cell_type": "code",
   "execution_count": 8,
   "id": "9f81ed0b",
   "metadata": {
    "pycharm": {
     "name": "#%%\n"
    }
   },
   "outputs": [
    {
     "data": {
      "text/html": [
       "<div>\n",
       "<style scoped>\n",
       "    .dataframe tbody tr th:only-of-type {\n",
       "        vertical-align: middle;\n",
       "    }\n",
       "\n",
       "    .dataframe tbody tr th {\n",
       "        vertical-align: top;\n",
       "    }\n",
       "\n",
       "    .dataframe thead th {\n",
       "        text-align: right;\n",
       "    }\n",
       "</style>\n",
       "<table border=\"1\" class=\"dataframe\">\n",
       "  <thead>\n",
       "    <tr style=\"text-align: right;\">\n",
       "      <th></th>\n",
       "      <th>CustomerCode</th>\n",
       "      <th>CreatedDate</th>\n",
       "      <th>QtyFinal</th>\n",
       "      <th>orderIncrementId</th>\n",
       "      <th>SaleAmount</th>\n",
       "      <th>productdiversity</th>\n",
       "    </tr>\n",
       "  </thead>\n",
       "  <tbody>\n",
       "    <tr>\n",
       "      <th>count</th>\n",
       "      <td>5.731000e+04</td>\n",
       "      <td>57310</td>\n",
       "      <td>57310.000000</td>\n",
       "      <td>56777.000000</td>\n",
       "      <td>5.731000e+04</td>\n",
       "      <td>57310.000000</td>\n",
       "    </tr>\n",
       "    <tr>\n",
       "      <th>mean</th>\n",
       "      <td>5.363085e+06</td>\n",
       "      <td>2022-08-25 14:28:41.919385856</td>\n",
       "      <td>6.147322</td>\n",
       "      <td>604878.829420</td>\n",
       "      <td>1.617196e+06</td>\n",
       "      <td>52.032682</td>\n",
       "    </tr>\n",
       "    <tr>\n",
       "      <th>min</th>\n",
       "      <td>5.209875e+06</td>\n",
       "      <td>2021-04-06 00:00:00</td>\n",
       "      <td>1.000000</td>\n",
       "      <td>548779.000000</td>\n",
       "      <td>1.049396e+06</td>\n",
       "      <td>1.000000</td>\n",
       "    </tr>\n",
       "    <tr>\n",
       "      <th>25%</th>\n",
       "      <td>5.333035e+06</td>\n",
       "      <td>2022-01-21 00:00:00</td>\n",
       "      <td>2.000000</td>\n",
       "      <td>575113.000000</td>\n",
       "      <td>1.253832e+06</td>\n",
       "      <td>2.000000</td>\n",
       "    </tr>\n",
       "    <tr>\n",
       "      <th>50%</th>\n",
       "      <td>5.380286e+06</td>\n",
       "      <td>2022-11-02 00:00:00</td>\n",
       "      <td>3.000000</td>\n",
       "      <td>604558.000000</td>\n",
       "      <td>1.399396e+06</td>\n",
       "      <td>7.000000</td>\n",
       "    </tr>\n",
       "    <tr>\n",
       "      <th>75%</th>\n",
       "      <td>5.404716e+06</td>\n",
       "      <td>2023-03-07 00:00:00</td>\n",
       "      <td>5.000000</td>\n",
       "      <td>633743.000000</td>\n",
       "      <td>1.647971e+06</td>\n",
       "      <td>29.000000</td>\n",
       "    </tr>\n",
       "    <tr>\n",
       "      <th>max</th>\n",
       "      <td>5.451709e+06</td>\n",
       "      <td>2023-07-16 00:00:00</td>\n",
       "      <td>52001.000000</td>\n",
       "      <td>662666.000000</td>\n",
       "      <td>1.382334e+08</td>\n",
       "      <td>1487.000000</td>\n",
       "    </tr>\n",
       "    <tr>\n",
       "      <th>std</th>\n",
       "      <td>6.274433e+04</td>\n",
       "      <td>NaN</td>\n",
       "      <td>217.612785</td>\n",
       "      <td>33427.532137</td>\n",
       "      <td>1.777486e+06</td>\n",
       "      <td>176.961383</td>\n",
       "    </tr>\n",
       "  </tbody>\n",
       "</table>\n",
       "</div>"
      ],
      "text/plain": [
       "       CustomerCode                    CreatedDate      QtyFinal  \\\n",
       "count  5.731000e+04                          57310  57310.000000   \n",
       "mean   5.363085e+06  2022-08-25 14:28:41.919385856      6.147322   \n",
       "min    5.209875e+06            2021-04-06 00:00:00      1.000000   \n",
       "25%    5.333035e+06            2022-01-21 00:00:00      2.000000   \n",
       "50%    5.380286e+06            2022-11-02 00:00:00      3.000000   \n",
       "75%    5.404716e+06            2023-03-07 00:00:00      5.000000   \n",
       "max    5.451709e+06            2023-07-16 00:00:00  52001.000000   \n",
       "std    6.274433e+04                            NaN    217.612785   \n",
       "\n",
       "       orderIncrementId    SaleAmount  productdiversity  \n",
       "count      56777.000000  5.731000e+04      57310.000000  \n",
       "mean      604878.829420  1.617196e+06         52.032682  \n",
       "min       548779.000000  1.049396e+06          1.000000  \n",
       "25%       575113.000000  1.253832e+06          2.000000  \n",
       "50%       604558.000000  1.399396e+06          7.000000  \n",
       "75%       633743.000000  1.647971e+06         29.000000  \n",
       "max       662666.000000  1.382334e+08       1487.000000  \n",
       "std        33427.532137  1.777486e+06        176.961383  "
      ]
     },
     "execution_count": 8,
     "metadata": {},
     "output_type": "execute_result"
    }
   ],
   "source": [
    "df_Customer_sales = df_Customer_sales[(df_Customer_sales['QtyFinal'] > 0) & (df_Customer_sales['SaleAmount'] > 0)]\n",
    "df_Customer_sales.describe()"
   ]
  },
  {
   "cell_type": "markdown",
   "id": "e6ad0c3b",
   "metadata": {},
   "source": [
    "### Remove duplicate row "
   ]
  },
  {
   "cell_type": "code",
   "execution_count": 9,
   "id": "5482f631",
   "metadata": {
    "pycharm": {
     "name": "#%%\n"
    }
   },
   "outputs": [
    {
     "data": {
      "text/plain": [
       "(57310, 6)"
      ]
     },
     "execution_count": 9,
     "metadata": {},
     "output_type": "execute_result"
    }
   ],
   "source": [
    "df_Customer_sales = df_Customer_sales.drop_duplicates()\n",
    "df_Customer_sales.shape"
   ]
  },
  {
   "cell_type": "code",
   "execution_count": 10,
   "id": "5e3fb9d8",
   "metadata": {
    "pycharm": {
     "name": "#%%\n"
    }
   },
   "outputs": [
    {
     "name": "stdout",
     "output_type": "stream",
     "text": [
      "Minimum Date: 2021-04-06 00:00:00\n",
      "Maximum Date: 2023-07-16 00:00:00\n"
     ]
    }
   ],
   "source": [
    "min_date = df_Customer_sales['CreatedDate'].min()\n",
    "max_date = df_Customer_sales['CreatedDate'].max()\n",
    "\n",
    "print(\"Minimum Date:\", min_date)\n",
    "print(\"Maximum Date:\", max_date)"
   ]
  },
  {
   "cell_type": "code",
   "execution_count": 11,
   "id": "e2f952a2",
   "metadata": {
    "pycharm": {
     "name": "#%%\n"
    }
   },
   "outputs": [
    {
     "name": "stdout",
     "output_type": "stream",
     "text": [
      "Today's date: 2023-10-26\n"
     ]
    }
   ],
   "source": [
    "today = date.today()\n",
    "print(\"Today's date:\", today)"
   ]
  },
  {
   "cell_type": "markdown",
   "id": "ea2167a8",
   "metadata": {},
   "source": [
    "### Convert  'CreatedDate' into datetime"
   ]
  },
  {
   "cell_type": "code",
   "execution_count": 12,
   "id": "1fa5dbe6",
   "metadata": {
    "pycharm": {
     "name": "#%%\n"
    }
   },
   "outputs": [
    {
     "data": {
      "text/html": [
       "<div>\n",
       "<style scoped>\n",
       "    .dataframe tbody tr th:only-of-type {\n",
       "        vertical-align: middle;\n",
       "    }\n",
       "\n",
       "    .dataframe tbody tr th {\n",
       "        vertical-align: top;\n",
       "    }\n",
       "\n",
       "    .dataframe thead th {\n",
       "        text-align: right;\n",
       "    }\n",
       "</style>\n",
       "<table border=\"1\" class=\"dataframe\">\n",
       "  <thead>\n",
       "    <tr style=\"text-align: right;\">\n",
       "      <th></th>\n",
       "      <th>CustomerCode</th>\n",
       "      <th>CreatedDate</th>\n",
       "      <th>QtyFinal</th>\n",
       "      <th>orderIncrementId</th>\n",
       "      <th>SaleAmount</th>\n",
       "      <th>productdiversity</th>\n",
       "    </tr>\n",
       "  </thead>\n",
       "  <tbody>\n",
       "    <tr>\n",
       "      <th>0</th>\n",
       "      <td>5209875</td>\n",
       "      <td>2023-05-16</td>\n",
       "      <td>19</td>\n",
       "      <td>648825.0</td>\n",
       "      <td>3000618.4</td>\n",
       "      <td>13</td>\n",
       "    </tr>\n",
       "    <tr>\n",
       "      <th>1</th>\n",
       "      <td>5209932</td>\n",
       "      <td>2022-07-30</td>\n",
       "      <td>4</td>\n",
       "      <td>593721.0</td>\n",
       "      <td>1201646.0</td>\n",
       "      <td>44</td>\n",
       "    </tr>\n",
       "    <tr>\n",
       "      <th>2</th>\n",
       "      <td>5209932</td>\n",
       "      <td>2022-08-17</td>\n",
       "      <td>4</td>\n",
       "      <td>595165.0</td>\n",
       "      <td>1189296.0</td>\n",
       "      <td>44</td>\n",
       "    </tr>\n",
       "    <tr>\n",
       "      <th>3</th>\n",
       "      <td>5209932</td>\n",
       "      <td>2022-05-05</td>\n",
       "      <td>2</td>\n",
       "      <td>585977.0</td>\n",
       "      <td>1408396.0</td>\n",
       "      <td>44</td>\n",
       "    </tr>\n",
       "    <tr>\n",
       "      <th>4</th>\n",
       "      <td>5209932</td>\n",
       "      <td>2022-05-04</td>\n",
       "      <td>3</td>\n",
       "      <td>585909.0</td>\n",
       "      <td>1193396.0</td>\n",
       "      <td>44</td>\n",
       "    </tr>\n",
       "    <tr>\n",
       "      <th>...</th>\n",
       "      <td>...</td>\n",
       "      <td>...</td>\n",
       "      <td>...</td>\n",
       "      <td>...</td>\n",
       "      <td>...</td>\n",
       "      <td>...</td>\n",
       "    </tr>\n",
       "    <tr>\n",
       "      <th>57305</th>\n",
       "      <td>5451672</td>\n",
       "      <td>2023-07-16</td>\n",
       "      <td>2</td>\n",
       "      <td>662657.0</td>\n",
       "      <td>1734396.0</td>\n",
       "      <td>1</td>\n",
       "    </tr>\n",
       "    <tr>\n",
       "      <th>57306</th>\n",
       "      <td>5451684</td>\n",
       "      <td>2023-07-16</td>\n",
       "      <td>4</td>\n",
       "      <td>662651.0</td>\n",
       "      <td>1682946.0</td>\n",
       "      <td>3</td>\n",
       "    </tr>\n",
       "    <tr>\n",
       "      <th>57307</th>\n",
       "      <td>5451690</td>\n",
       "      <td>2023-07-16</td>\n",
       "      <td>2</td>\n",
       "      <td>662662.0</td>\n",
       "      <td>1114296.0</td>\n",
       "      <td>1</td>\n",
       "    </tr>\n",
       "    <tr>\n",
       "      <th>57308</th>\n",
       "      <td>5451690</td>\n",
       "      <td>2023-07-16</td>\n",
       "      <td>2</td>\n",
       "      <td>662659.0</td>\n",
       "      <td>1114296.0</td>\n",
       "      <td>1</td>\n",
       "    </tr>\n",
       "    <tr>\n",
       "      <th>57309</th>\n",
       "      <td>5451709</td>\n",
       "      <td>2023-07-16</td>\n",
       "      <td>4</td>\n",
       "      <td>662664.0</td>\n",
       "      <td>1719996.0</td>\n",
       "      <td>3</td>\n",
       "    </tr>\n",
       "  </tbody>\n",
       "</table>\n",
       "<p>57310 rows × 6 columns</p>\n",
       "</div>"
      ],
      "text/plain": [
       "       CustomerCode CreatedDate  QtyFinal  orderIncrementId  SaleAmount  \\\n",
       "0           5209875  2023-05-16        19          648825.0   3000618.4   \n",
       "1           5209932  2022-07-30         4          593721.0   1201646.0   \n",
       "2           5209932  2022-08-17         4          595165.0   1189296.0   \n",
       "3           5209932  2022-05-05         2          585977.0   1408396.0   \n",
       "4           5209932  2022-05-04         3          585909.0   1193396.0   \n",
       "...             ...         ...       ...               ...         ...   \n",
       "57305       5451672  2023-07-16         2          662657.0   1734396.0   \n",
       "57306       5451684  2023-07-16         4          662651.0   1682946.0   \n",
       "57307       5451690  2023-07-16         2          662662.0   1114296.0   \n",
       "57308       5451690  2023-07-16         2          662659.0   1114296.0   \n",
       "57309       5451709  2023-07-16         4          662664.0   1719996.0   \n",
       "\n",
       "       productdiversity  \n",
       "0                    13  \n",
       "1                    44  \n",
       "2                    44  \n",
       "3                    44  \n",
       "4                    44  \n",
       "...                 ...  \n",
       "57305                 1  \n",
       "57306                 3  \n",
       "57307                 1  \n",
       "57308                 1  \n",
       "57309                 3  \n",
       "\n",
       "[57310 rows x 6 columns]"
      ]
     },
     "execution_count": 12,
     "metadata": {},
     "output_type": "execute_result"
    }
   ],
   "source": [
    "In [32]: df_Customer_sales['CreatedDate'] = df_Customer_sales['CreatedDate'].astype('datetime64[ns]')\n",
    "df_Customer_sales\n",
    "# df_Customer_sales['CreatedDate'] = pd.to_datetime(df_Customer_sales['CreatedDate'])\n"
   ]
  },
  {
   "cell_type": "code",
   "execution_count": 13,
   "id": "a98b6055",
   "metadata": {
    "pycharm": {
     "name": "#%%\n"
    }
   },
   "outputs": [
    {
     "name": "stdout",
     "output_type": "stream",
     "text": [
      "<class 'datetime.date'>\n",
      "<class 'pandas.core.series.Series'>\n"
     ]
    }
   ],
   "source": [
    "print(type(today))\n",
    "print(type(df_Customer_sales['CreatedDate']))"
   ]
  },
  {
   "cell_type": "markdown",
   "id": "cd0259f5",
   "metadata": {},
   "source": [
    "### Calculate reecency as the difference between today and 'CreateDate'"
   ]
  },
  {
   "cell_type": "code",
   "execution_count": 14,
   "id": "05d8a92a-509a-44a5-9e28-79a2f36d9093",
   "metadata": {},
   "outputs": [
    {
     "data": {
      "text/html": [
       "<div>\n",
       "<style scoped>\n",
       "    .dataframe tbody tr th:only-of-type {\n",
       "        vertical-align: middle;\n",
       "    }\n",
       "\n",
       "    .dataframe tbody tr th {\n",
       "        vertical-align: top;\n",
       "    }\n",
       "\n",
       "    .dataframe thead th {\n",
       "        text-align: right;\n",
       "    }\n",
       "</style>\n",
       "<table border=\"1\" class=\"dataframe\">\n",
       "  <thead>\n",
       "    <tr style=\"text-align: right;\">\n",
       "      <th></th>\n",
       "      <th>CustomerCode</th>\n",
       "      <th>CreatedDate</th>\n",
       "      <th>QtyFinal</th>\n",
       "      <th>orderIncrementId</th>\n",
       "      <th>SaleAmount</th>\n",
       "      <th>productdiversity</th>\n",
       "      <th>history_day</th>\n",
       "    </tr>\n",
       "  </thead>\n",
       "  <tbody>\n",
       "    <tr>\n",
       "      <th>0</th>\n",
       "      <td>5209875</td>\n",
       "      <td>2023-05-16</td>\n",
       "      <td>19</td>\n",
       "      <td>648825.0</td>\n",
       "      <td>3000618.4</td>\n",
       "      <td>13</td>\n",
       "      <td>163</td>\n",
       "    </tr>\n",
       "    <tr>\n",
       "      <th>1</th>\n",
       "      <td>5209932</td>\n",
       "      <td>2022-07-30</td>\n",
       "      <td>4</td>\n",
       "      <td>593721.0</td>\n",
       "      <td>1201646.0</td>\n",
       "      <td>44</td>\n",
       "      <td>453</td>\n",
       "    </tr>\n",
       "    <tr>\n",
       "      <th>2</th>\n",
       "      <td>5209932</td>\n",
       "      <td>2022-08-17</td>\n",
       "      <td>4</td>\n",
       "      <td>595165.0</td>\n",
       "      <td>1189296.0</td>\n",
       "      <td>44</td>\n",
       "      <td>435</td>\n",
       "    </tr>\n",
       "    <tr>\n",
       "      <th>3</th>\n",
       "      <td>5209932</td>\n",
       "      <td>2022-05-05</td>\n",
       "      <td>2</td>\n",
       "      <td>585977.0</td>\n",
       "      <td>1408396.0</td>\n",
       "      <td>44</td>\n",
       "      <td>539</td>\n",
       "    </tr>\n",
       "    <tr>\n",
       "      <th>4</th>\n",
       "      <td>5209932</td>\n",
       "      <td>2022-05-04</td>\n",
       "      <td>3</td>\n",
       "      <td>585909.0</td>\n",
       "      <td>1193396.0</td>\n",
       "      <td>44</td>\n",
       "      <td>540</td>\n",
       "    </tr>\n",
       "  </tbody>\n",
       "</table>\n",
       "</div>"
      ],
      "text/plain": [
       "   CustomerCode CreatedDate  QtyFinal  orderIncrementId  SaleAmount  \\\n",
       "0       5209875  2023-05-16        19          648825.0   3000618.4   \n",
       "1       5209932  2022-07-30         4          593721.0   1201646.0   \n",
       "2       5209932  2022-08-17         4          595165.0   1189296.0   \n",
       "3       5209932  2022-05-05         2          585977.0   1408396.0   \n",
       "4       5209932  2022-05-04         3          585909.0   1193396.0   \n",
       "\n",
       "   productdiversity  history_day  \n",
       "0                13          163  \n",
       "1                44          453  \n",
       "2                44          435  \n",
       "3                44          539  \n",
       "4                44          540  "
      ]
     },
     "execution_count": 14,
     "metadata": {},
     "output_type": "execute_result"
    }
   ],
   "source": [
    "df_Customer_sales['history_day'] = (pd.to_datetime(today) - df_Customer_sales['CreatedDate']).dt.days\n",
    "df_Customer_sales.head()"
   ]
  },
  {
   "cell_type": "code",
   "execution_count": 15,
   "id": "84130a36",
   "metadata": {
    "pycharm": {
     "name": "#%%\n"
    }
   },
   "outputs": [],
   "source": [
    "df_Customer_sales['CreatedDate'] = pd.to_datetime(df_Customer_sales['CreatedDate']).dt.floor('D').tolist()"
   ]
  },
  {
   "cell_type": "markdown",
   "id": "af4406c3",
   "metadata": {},
   "source": [
    "### Group data by 'CustomerCode' and aggregate RFM metric"
   ]
  },
  {
   "cell_type": "code",
   "execution_count": 16,
   "id": "78b05316-3c99-4ae2-a136-06dd6b74532f",
   "metadata": {},
   "outputs": [],
   "source": [
    "df_RFM = df_Customer_sales.groupby('CustomerCode').agg({\n",
    "    'history_day': 'min',         # Recency\n",
    "    'orderIncrementId': 'count',  # Frequency (number of orders)\n",
    "    'SaleAmount': 'sum',         # Monetary Value (total sales amount)\n",
    "    'productdiversity': 'max'    # Maximum product diversity\n",
    "}).reset_index()\n"
   ]
  },
  {
   "cell_type": "markdown",
   "id": "46f20b5d",
   "metadata": {},
   "source": [
    "### Rename column for clarity"
   ]
  },
  {
   "cell_type": "code",
   "execution_count": 17,
   "id": "ec0a1476-3535-4974-9478-ac7900ca3652",
   "metadata": {},
   "outputs": [],
   "source": [
    "df_RFM = df_RFM.rename(columns={\n",
    "    'CustomerCode': 'CustomerCode',\n",
    "    'history_day': 'Recency',\n",
    "    'orderIncrementId': 'Frequency',\n",
    "    'SaleAmount': 'Monetary',\n",
    "    'productdiversity': 'Productdiversity'\n",
    "})"
   ]
  },
  {
   "cell_type": "markdown",
   "id": "f9ae4200",
   "metadata": {},
   "source": [
    "### Calculate quartiles for further analytic"
   ]
  },
  {
   "cell_type": "code",
   "execution_count": 18,
   "id": "7898b8ec",
   "metadata": {
    "pycharm": {
     "name": "#%%\n"
    }
   },
   "outputs": [
    {
     "name": "stdout",
     "output_type": "stream",
     "text": [
      "{'CustomerCode': {0.25: 5374749.75, 0.5: 5391138.5, 0.75: 5414764.75}, 'Recency': {0.25: 202.0, 0.5: 319.0, 0.75: 573.0}, 'Frequency': {0.25: 1.0, 0.5: 1.0, 0.75: 1.0}, 'Monetary': {0.25: 1289396.0, 0.5: 1530471.0, 0.75: 2568890.5}, 'Productdiversity': {0.25: 1.0, 0.5: 3.0, 0.75: 6.0}}\n"
     ]
    }
   ],
   "source": [
    "quartiles = df_RFM.quantile([0.25, 0.50, 0.75]).to_dict()\n",
    "print(quartiles)"
   ]
  },
  {
   "cell_type": "markdown",
   "id": "5e51e301",
   "metadata": {},
   "source": [
    "### Define the RClass function to categorize Recency (R) and Define FMDClass function to categorize Frequency and Monetary Value(F and M)"
   ]
  },
  {
   "cell_type": "code",
   "execution_count": 19,
   "id": "d81ffccd",
   "metadata": {
    "pycharm": {
     "name": "#%%\n"
    }
   },
   "outputs": [],
   "source": [
    "def RClass(x,p,d):\n",
    "\n",
    "    if x <= d[p][0.25]:\n",
    "        return 1\n",
    "    elif x <= d[p][0.50]:\n",
    "        return 2\n",
    "    elif x <= d[p][0.75]: \n",
    "        return 3\n",
    "    else:\n",
    "        return 4\n",
    "    \n",
    "# for Frequency and Monetary value \n",
    "\n",
    "def FMDClass(x,p,d):\n",
    "    if x <= d[p][0.25]:\n",
    "        return 4\n",
    "    elif x <= d[p][0.50]:\n",
    "        return 3\n",
    "    elif x <= d[p][0.75]: \n",
    "        return 2\n",
    "    else:\n",
    "        return 1\n",
    "\n"
   ]
  },
  {
   "cell_type": "markdown",
   "id": "6e0d471f",
   "metadata": {},
   "source": [
    "### Create an 'RFMClass' column by combining R, F, and M quartiles"
   ]
  },
  {
   "cell_type": "code",
   "execution_count": 20,
   "id": "63d2feb2",
   "metadata": {
    "pycharm": {
     "name": "#%%\n"
    }
   },
   "outputs": [],
   "source": [
    "RFM_Segmentation = df_RFM\n",
    "RFM_Segmentation['R_Quartile'] = RFM_Segmentation['Recency'].apply(RClass, args=('Recency',quartiles,))\n",
    "RFM_Segmentation['F_Quartile'] = RFM_Segmentation['Frequency'].apply(FMDClass, args=('Frequency',quartiles,))\n",
    "RFM_Segmentation['M_Quartile'] = RFM_Segmentation['Monetary'].apply(FMDClass, args=('Monetary',quartiles,))\n",
    "RFM_Segmentation['Productdiversity']  = RFM_Segmentation['Productdiversity'].apply(FMDClass, args=('Productdiversity',quartiles,))"
   ]
  },
  {
   "cell_type": "code",
   "execution_count": 21,
   "id": "1d0a8e25-84cc-41db-a829-73a5a44e8aca",
   "metadata": {},
   "outputs": [],
   "source": [
    "RFM_Segmentation['RFMClass'] = RFM_Segmentation['R_Quartile'].astype(str) + \\\n",
    "                               RFM_Segmentation['F_Quartile'].astype(str) + \\\n",
    "                               RFM_Segmentation['M_Quartile'].astype(str)"
   ]
  },
  {
   "cell_type": "code",
   "execution_count": 22,
   "id": "f6025226",
   "metadata": {
    "pycharm": {
     "name": "#%%\n"
    },
    "scrolled": true
   },
   "outputs": [
    {
     "data": {
      "text/html": [
       "<div>\n",
       "<style scoped>\n",
       "    .dataframe tbody tr th:only-of-type {\n",
       "        vertical-align: middle;\n",
       "    }\n",
       "\n",
       "    .dataframe tbody tr th {\n",
       "        vertical-align: top;\n",
       "    }\n",
       "\n",
       "    .dataframe thead th {\n",
       "        text-align: right;\n",
       "    }\n",
       "</style>\n",
       "<table border=\"1\" class=\"dataframe\">\n",
       "  <thead>\n",
       "    <tr style=\"text-align: right;\">\n",
       "      <th></th>\n",
       "      <th>CustomerCode</th>\n",
       "      <th>Recency</th>\n",
       "      <th>Frequency</th>\n",
       "      <th>Monetary</th>\n",
       "      <th>Productdiversity</th>\n",
       "      <th>R_Quartile</th>\n",
       "      <th>F_Quartile</th>\n",
       "      <th>M_Quartile</th>\n",
       "      <th>RFMClass</th>\n",
       "    </tr>\n",
       "  </thead>\n",
       "  <tbody>\n",
       "    <tr>\n",
       "      <th>0</th>\n",
       "      <td>5209875</td>\n",
       "      <td>163</td>\n",
       "      <td>1</td>\n",
       "      <td>3000618.4</td>\n",
       "      <td>1</td>\n",
       "      <td>1</td>\n",
       "      <td>4</td>\n",
       "      <td>1</td>\n",
       "      <td>141</td>\n",
       "    </tr>\n",
       "    <tr>\n",
       "      <th>1</th>\n",
       "      <td>5209932</td>\n",
       "      <td>417</td>\n",
       "      <td>16</td>\n",
       "      <td>80046926.0</td>\n",
       "      <td>1</td>\n",
       "      <td>3</td>\n",
       "      <td>1</td>\n",
       "      <td>1</td>\n",
       "      <td>311</td>\n",
       "    </tr>\n",
       "  </tbody>\n",
       "</table>\n",
       "</div>"
      ],
      "text/plain": [
       "   CustomerCode  Recency  Frequency    Monetary  Productdiversity  R_Quartile  \\\n",
       "0       5209875      163          1   3000618.4                 1           1   \n",
       "1       5209932      417         16  80046926.0                 1           3   \n",
       "\n",
       "   F_Quartile  M_Quartile RFMClass  \n",
       "0           4           1      141  \n",
       "1           1           1      311  "
      ]
     },
     "execution_count": 22,
     "metadata": {},
     "output_type": "execute_result"
    }
   ],
   "source": [
    "RFM_Segmentation.head(2)"
   ]
  },
  {
   "cell_type": "markdown",
   "id": "f1648954",
   "metadata": {},
   "source": [
    "### Sort the data base on RFMClass and monetary value"
   ]
  },
  {
   "cell_type": "code",
   "execution_count": 23,
   "id": "7a347307",
   "metadata": {
    "pycharm": {
     "name": "#%%\n"
    }
   },
   "outputs": [
    {
     "data": {
      "text/html": [
       "<div>\n",
       "<style scoped>\n",
       "    .dataframe tbody tr th:only-of-type {\n",
       "        vertical-align: middle;\n",
       "    }\n",
       "\n",
       "    .dataframe tbody tr th {\n",
       "        vertical-align: top;\n",
       "    }\n",
       "\n",
       "    .dataframe thead th {\n",
       "        text-align: right;\n",
       "    }\n",
       "</style>\n",
       "<table border=\"1\" class=\"dataframe\">\n",
       "  <thead>\n",
       "    <tr style=\"text-align: right;\">\n",
       "      <th></th>\n",
       "      <th>CustomerCode</th>\n",
       "      <th>Recency</th>\n",
       "      <th>Frequency</th>\n",
       "      <th>Monetary</th>\n",
       "      <th>Productdiversity</th>\n",
       "      <th>R_Quartile</th>\n",
       "      <th>F_Quartile</th>\n",
       "      <th>M_Quartile</th>\n",
       "      <th>RFMClass</th>\n",
       "    </tr>\n",
       "  </thead>\n",
       "  <tbody>\n",
       "    <tr>\n",
       "      <th>9634</th>\n",
       "      <td>5379404</td>\n",
       "      <td>102</td>\n",
       "      <td>712</td>\n",
       "      <td>1.158809e+09</td>\n",
       "      <td>1</td>\n",
       "      <td>1</td>\n",
       "      <td>1</td>\n",
       "      <td>1</td>\n",
       "      <td>111</td>\n",
       "    </tr>\n",
       "    <tr>\n",
       "      <th>3</th>\n",
       "      <td>5209949</td>\n",
       "      <td>103</td>\n",
       "      <td>256</td>\n",
       "      <td>4.839483e+08</td>\n",
       "      <td>1</td>\n",
       "      <td>1</td>\n",
       "      <td>1</td>\n",
       "      <td>1</td>\n",
       "      <td>111</td>\n",
       "    </tr>\n",
       "    <tr>\n",
       "      <th>29</th>\n",
       "      <td>5210492</td>\n",
       "      <td>145</td>\n",
       "      <td>10</td>\n",
       "      <td>2.819469e+08</td>\n",
       "      <td>1</td>\n",
       "      <td>1</td>\n",
       "      <td>1</td>\n",
       "      <td>1</td>\n",
       "      <td>111</td>\n",
       "    </tr>\n",
       "    <tr>\n",
       "      <th>2506</th>\n",
       "      <td>5279643</td>\n",
       "      <td>103</td>\n",
       "      <td>145</td>\n",
       "      <td>2.001806e+08</td>\n",
       "      <td>1</td>\n",
       "      <td>1</td>\n",
       "      <td>1</td>\n",
       "      <td>1</td>\n",
       "      <td>111</td>\n",
       "    </tr>\n",
       "    <tr>\n",
       "      <th>936</th>\n",
       "      <td>5231136</td>\n",
       "      <td>111</td>\n",
       "      <td>141</td>\n",
       "      <td>1.920693e+08</td>\n",
       "      <td>1</td>\n",
       "      <td>1</td>\n",
       "      <td>1</td>\n",
       "      <td>1</td>\n",
       "      <td>111</td>\n",
       "    </tr>\n",
       "    <tr>\n",
       "      <th>...</th>\n",
       "      <td>...</td>\n",
       "      <td>...</td>\n",
       "      <td>...</td>\n",
       "      <td>...</td>\n",
       "      <td>...</td>\n",
       "      <td>...</td>\n",
       "      <td>...</td>\n",
       "      <td>...</td>\n",
       "      <td>...</td>\n",
       "    </tr>\n",
       "    <tr>\n",
       "      <th>8574</th>\n",
       "      <td>5377131</td>\n",
       "      <td>734</td>\n",
       "      <td>1</td>\n",
       "      <td>1.049396e+06</td>\n",
       "      <td>4</td>\n",
       "      <td>4</td>\n",
       "      <td>4</td>\n",
       "      <td>4</td>\n",
       "      <td>444</td>\n",
       "    </tr>\n",
       "    <tr>\n",
       "      <th>8951</th>\n",
       "      <td>5378214</td>\n",
       "      <td>691</td>\n",
       "      <td>1</td>\n",
       "      <td>1.049396e+06</td>\n",
       "      <td>4</td>\n",
       "      <td>4</td>\n",
       "      <td>4</td>\n",
       "      <td>4</td>\n",
       "      <td>444</td>\n",
       "    </tr>\n",
       "    <tr>\n",
       "      <th>9652</th>\n",
       "      <td>5379435</td>\n",
       "      <td>666</td>\n",
       "      <td>1</td>\n",
       "      <td>1.049396e+06</td>\n",
       "      <td>3</td>\n",
       "      <td>4</td>\n",
       "      <td>4</td>\n",
       "      <td>4</td>\n",
       "      <td>444</td>\n",
       "    </tr>\n",
       "    <tr>\n",
       "      <th>11625</th>\n",
       "      <td>5382497</td>\n",
       "      <td>639</td>\n",
       "      <td>1</td>\n",
       "      <td>1.049396e+06</td>\n",
       "      <td>4</td>\n",
       "      <td>4</td>\n",
       "      <td>4</td>\n",
       "      <td>4</td>\n",
       "      <td>444</td>\n",
       "    </tr>\n",
       "    <tr>\n",
       "      <th>12428</th>\n",
       "      <td>5383963</td>\n",
       "      <td>607</td>\n",
       "      <td>1</td>\n",
       "      <td>1.049396e+06</td>\n",
       "      <td>4</td>\n",
       "      <td>4</td>\n",
       "      <td>4</td>\n",
       "      <td>4</td>\n",
       "      <td>444</td>\n",
       "    </tr>\n",
       "  </tbody>\n",
       "</table>\n",
       "<p>31080 rows × 9 columns</p>\n",
       "</div>"
      ],
      "text/plain": [
       "       CustomerCode  Recency  Frequency      Monetary  Productdiversity  \\\n",
       "9634        5379404      102        712  1.158809e+09                 1   \n",
       "3           5209949      103        256  4.839483e+08                 1   \n",
       "29          5210492      145         10  2.819469e+08                 1   \n",
       "2506        5279643      103        145  2.001806e+08                 1   \n",
       "936         5231136      111        141  1.920693e+08                 1   \n",
       "...             ...      ...        ...           ...               ...   \n",
       "8574        5377131      734          1  1.049396e+06                 4   \n",
       "8951        5378214      691          1  1.049396e+06                 4   \n",
       "9652        5379435      666          1  1.049396e+06                 3   \n",
       "11625       5382497      639          1  1.049396e+06                 4   \n",
       "12428       5383963      607          1  1.049396e+06                 4   \n",
       "\n",
       "       R_Quartile  F_Quartile  M_Quartile RFMClass  \n",
       "9634            1           1           1      111  \n",
       "3               1           1           1      111  \n",
       "29              1           1           1      111  \n",
       "2506            1           1           1      111  \n",
       "936             1           1           1      111  \n",
       "...           ...         ...         ...      ...  \n",
       "8574            4           4           4      444  \n",
       "8951            4           4           4      444  \n",
       "9652            4           4           4      444  \n",
       "11625           4           4           4      444  \n",
       "12428           4           4           4      444  \n",
       "\n",
       "[31080 rows x 9 columns]"
      ]
     },
     "execution_count": 23,
     "metadata": {},
     "output_type": "execute_result"
    }
   ],
   "source": [
    "RFM_Segmentation.sort_values(by=['RFMClass', 'Monetary'], ascending=[True, False])"
   ]
  },
  {
   "cell_type": "markdown",
   "id": "f740db7f",
   "metadata": {},
   "source": [
    "### Calculate the count of each RFMClass"
   ]
  },
  {
   "cell_type": "code",
   "execution_count": 24,
   "id": "dd7ff59c",
   "metadata": {
    "pycharm": {
     "name": "#%%\n"
    }
   },
   "outputs": [
    {
     "data": {
      "text/plain": [
       "RFMClass\n",
       "111    2557\n",
       "112      88\n",
       "141     548\n",
       "142    2274\n",
       "143    1342\n",
       "144    1023\n",
       "211    1800\n",
       "212     158\n",
       "241     420\n",
       "242    2054\n",
       "243    1911\n",
       "244    1418\n",
       "311    1154\n",
       "312     170\n",
       "341     155\n",
       "342    1673\n",
       "343    2522\n",
       "344    2056\n",
       "411    1050\n",
       "412     400\n",
       "441      86\n",
       "442     953\n",
       "443    1942\n",
       "444    3326\n",
       "Name: F_Quartile, dtype: int64"
      ]
     },
     "execution_count": 24,
     "metadata": {},
     "output_type": "execute_result"
    }
   ],
   "source": [
    "RFM_Segmentation.groupby('RFMClass').agg('F_Quartile').count()"
   ]
  },
  {
   "cell_type": "markdown",
   "id": "5899689b",
   "metadata": {},
   "source": [
    "### Calculate the total score by suming R, F, nad M quartiles"
   ]
  },
  {
   "cell_type": "code",
   "execution_count": 25,
   "id": "8a8d29f8",
   "metadata": {
    "pycharm": {
     "name": "#%%\n"
    },
    "scrolled": true
   },
   "outputs": [
    {
     "name": "stdout",
     "output_type": "stream",
     "text": [
      "   CustomerCode  Recency  Frequency    Monetary  Productdiversity  R_Quartile  \\\n",
      "0       5209875      163          1   3000618.4                 1           1   \n",
      "1       5209932      417         16  80046926.0                 1           3   \n",
      "\n",
      "   F_Quartile  M_Quartile RFMClass  Total Score  \n",
      "0           4           1      141            6  \n",
      "1           1           1      311            5  \n"
     ]
    }
   ],
   "source": [
    "RFM_Segmentation['Total Score'] = RFM_Segmentation['R_Quartile'] + RFM_Segmentation['F_Quartile'] + RFM_Segmentation['M_Quartile']\n",
    "top_2_records = RFM_Segmentation.head(2)\n",
    "print(top_2_records)"
   ]
  },
  {
   "cell_type": "markdown",
   "id": "51b64e0c",
   "metadata": {
    "pycharm": {
     "name": "#%%\n"
    }
   },
   "source": [
    "### Calculate the mean product diversity for each total score and create  a bar plot"
   ]
  },
  {
   "cell_type": "code",
   "execution_count": 26,
   "id": "6f4e87dc",
   "metadata": {
    "pycharm": {
     "name": "#%%\n"
    }
   },
   "outputs": [
    {
     "data": {
      "image/png": "[encoded data removed]",
      "text/plain": [
       "<Figure size 1000x600 with 1 Axes>"
      ]
     },
     "metadata": {},
     "output_type": "display_data"
    }
   ],
   "source": [
    "RFM_Segmentation.groupby('Total Score').agg('Monetary').mean().plot(kind='bar', colormap='Blues_r')\n",
    "average_monetary_by_score = RFM_Segmentation.groupby('Total Score')['Monetary'].mean()\n",
    "average_monetary_by_score.plot(kind='bar', colormap='Blues_r', figsize=(10, 6))\n",
    "plt.xlabel('Total Score')\n",
    "plt.ylabel('Average Monetary Value')\n",
    "plt.title('Average Monetary Value by Total Score')\n",
    "plt.show()"
   ]
  },
  {
   "cell_type": "code",
   "execution_count": 27,
   "id": "7726c92e",
   "metadata": {
    "pycharm": {
     "name": "#%%\n"
    }
   },
   "outputs": [
    {
     "data": {
      "text/plain": [
       "<Axes: xlabel='Total Score'>"
      ]
     },
     "execution_count": 27,
     "metadata": {},
     "output_type": "execute_result"
    },
    {
     "data": {
      "image/png": "[encoded data removed]",
      "text/plain": [
       "<Figure size 800x550 with 1 Axes>"
      ]
     },
     "metadata": {},
     "output_type": "display_data"
    }
   ],
   "source": [
    "RFM_Segmentation.groupby('Total Score').agg('Recency').mean().plot(kind='bar', colormap='Blues_r')"
   ]
  },
  {
   "cell_type": "code",
   "execution_count": 28,
   "id": "fb0707b0",
   "metadata": {
    "pycharm": {
     "name": "#%%\n"
    }
   },
   "outputs": [
    {
     "data": {
      "text/plain": [
       "<Axes: xlabel='Total Score'>"
      ]
     },
     "execution_count": 28,
     "metadata": {},
     "output_type": "execute_result"
    },
    {
     "data": {
      "image/png": "[encoded data removed]",
      "text/plain": [
       "<Figure size 800x550 with 1 Axes>"
      ]
     },
     "metadata": {},
     "output_type": "display_data"
    }
   ],
   "source": [
    "RFM_Segmentation.groupby('Total Score').agg('Productdiversity').mean().plot(kind='bar', colormap='Blues_r')"
   ]
  },
  {
   "cell_type": "code",
   "execution_count": 29,
   "id": "85be6822",
   "metadata": {
    "pycharm": {
     "name": "#%%\n"
    }
   },
   "outputs": [],
   "source": [
    "def visualize_clusters(df, num_clusters):\n",
    "    colors = ['b', 'g', 'r', 'c', 'm', 'y', 'k']\n",
    "    for n in range(num_clusters):\n",
    "        clustered_df = df[df['cluster'] == n]\n",
    "        plt.scatter(clustered_df['Total Score'], c=colors[n-1]) #clustered_df['recency'], \n",
    "        plt.xlabel('Points Per Game', fontsize=13)\n",
    "        plt.ylabel('Assist Turnover Ratio', fontsize=13)\n",
    "    plt.show()"
   ]
  },
  {
   "cell_type": "code",
   "execution_count": 30,
   "id": "37697e0b",
   "metadata": {
    "pycharm": {
     "name": "#%%\n"
    }
   },
   "outputs": [
    {
     "data": {
      "text/html": [
       "<div>\n",
       "<style scoped>\n",
       "    .dataframe tbody tr th:only-of-type {\n",
       "        vertical-align: middle;\n",
       "    }\n",
       "\n",
       "    .dataframe tbody tr th {\n",
       "        vertical-align: top;\n",
       "    }\n",
       "\n",
       "    .dataframe thead th {\n",
       "        text-align: right;\n",
       "    }\n",
       "</style>\n",
       "<table border=\"1\" class=\"dataframe\">\n",
       "  <thead>\n",
       "    <tr style=\"text-align: right;\">\n",
       "      <th></th>\n",
       "      <th>CustomerCode</th>\n",
       "      <th>Recency</th>\n",
       "      <th>Frequency</th>\n",
       "    </tr>\n",
       "  </thead>\n",
       "  <tbody>\n",
       "    <tr>\n",
       "      <th>5</th>\n",
       "      <td>5209967</td>\n",
       "      <td>643</td>\n",
       "      <td>4</td>\n",
       "    </tr>\n",
       "    <tr>\n",
       "      <th>6</th>\n",
       "      <td>5209974</td>\n",
       "      <td>683</td>\n",
       "      <td>2</td>\n",
       "    </tr>\n",
       "    <tr>\n",
       "      <th>7</th>\n",
       "      <td>5209975</td>\n",
       "      <td>315</td>\n",
       "      <td>12</td>\n",
       "    </tr>\n",
       "    <tr>\n",
       "      <th>8</th>\n",
       "      <td>5209983</td>\n",
       "      <td>664</td>\n",
       "      <td>1</td>\n",
       "    </tr>\n",
       "    <tr>\n",
       "      <th>9</th>\n",
       "      <td>5209992</td>\n",
       "      <td>644</td>\n",
       "      <td>2</td>\n",
       "    </tr>\n",
       "    <tr>\n",
       "      <th>...</th>\n",
       "      <td>...</td>\n",
       "      <td>...</td>\n",
       "      <td>...</td>\n",
       "    </tr>\n",
       "    <tr>\n",
       "      <th>31075</th>\n",
       "      <td>5451665</td>\n",
       "      <td>102</td>\n",
       "      <td>1</td>\n",
       "    </tr>\n",
       "    <tr>\n",
       "      <th>31076</th>\n",
       "      <td>5451672</td>\n",
       "      <td>102</td>\n",
       "      <td>1</td>\n",
       "    </tr>\n",
       "    <tr>\n",
       "      <th>31077</th>\n",
       "      <td>5451684</td>\n",
       "      <td>102</td>\n",
       "      <td>1</td>\n",
       "    </tr>\n",
       "    <tr>\n",
       "      <th>31078</th>\n",
       "      <td>5451690</td>\n",
       "      <td>102</td>\n",
       "      <td>2</td>\n",
       "    </tr>\n",
       "    <tr>\n",
       "      <th>31079</th>\n",
       "      <td>5451709</td>\n",
       "      <td>102</td>\n",
       "      <td>1</td>\n",
       "    </tr>\n",
       "  </tbody>\n",
       "</table>\n",
       "<p>31075 rows × 3 columns</p>\n",
       "</div>"
      ],
      "text/plain": [
       "       CustomerCode  Recency  Frequency\n",
       "5           5209967      643          4\n",
       "6           5209974      683          2\n",
       "7           5209975      315         12\n",
       "8           5209983      664          1\n",
       "9           5209992      644          2\n",
       "...             ...      ...        ...\n",
       "31075       5451665      102          1\n",
       "31076       5451672      102          1\n",
       "31077       5451684      102          1\n",
       "31078       5451690      102          2\n",
       "31079       5451709      102          1\n",
       "\n",
       "[31075 rows x 3 columns]"
      ]
     },
     "execution_count": 30,
     "metadata": {},
     "output_type": "execute_result"
    }
   ],
   "source": [
    "RFM_Segmentation.iloc[5:,0:3]"
   ]
  },
  {
   "cell_type": "code",
   "execution_count": 31,
   "id": "563d0375",
   "metadata": {
    "pycharm": {
     "name": "#%%\n"
    }
   },
   "outputs": [
    {
     "data": {
      "image/png": "[encoded data removed]",
      "text/plain": [
       "<Figure size 800x550 with 1 Axes>"
      ]
     },
     "metadata": {},
     "output_type": "display_data"
    }
   ],
   "source": [
    "dendrogram = hierar.dendrogram(hierar.linkage(RFM_Segmentation.iloc[:,3:].values, method  = \"ward\"))\n",
    "plt.title('Dendrogram')\n",
    "plt.xlabel('Customers')\n",
    "plt.ylabel('distances')\n",
    "plt.show()"
   ]
  },
  {
   "cell_type": "markdown",
   "id": "36ac9711",
   "metadata": {},
   "source": [
    "### determine the optimal number of clusters using the Elbow method"
   ]
  },
  {
   "cell_type": "code",
   "execution_count": 32,
   "id": "90bb2457",
   "metadata": {
    "pycharm": {
     "name": "#%%\n"
    }
   },
   "outputs": [
    {
     "data": {
      "image/png": "[encoded data removed]",
      "text/plain": [
       "<Figure size 800x550 with 1 Axes>"
      ]
     },
     "metadata": {},
     "output_type": "display_data"
    }
   ],
   "source": [
    "from sklearn.cluster import KMeans\n",
    "Nc = range(1, 10)\n",
    "# Create K-Means models for each cluster number\n",
    "kmeans = [KMeans(n_clusters=i, n_init=10) for i in Nc] \n",
    "score = [kmeans[i].fit(RFM_Segmentation).score(RFM_Segmentation) for i in range(len(kmeans))]\n",
    "plt.plot(Nc,score)\n",
    "plt.xlabel('Number of Clusters')\n",
    "plt.ylabel('Score')\n",
    "plt.title('Elbow Curve')\n",
    "plt.show()"
   ]
  },
  {
   "cell_type": "markdown",
   "id": "4d4f6112",
   "metadata": {},
   "source": [
    "### Perform KMeans clustering with 4clusters"
   ]
  },
  {
   "cell_type": "code",
   "execution_count": null,
   "id": "6f126378",
   "metadata": {
    "pycharm": {
     "name": "#%%\n"
    }
   },
   "outputs": [],
   "source": [
    "kmeans = KMeans(n_clusters=4, random_state=0).fit(RFM_Segmentation)"
   ]
  },
  {
   "cell_type": "code",
   "execution_count": null,
   "id": "beb54c7f",
   "metadata": {
    "pycharm": {
     "name": "#%%\n"
    }
   },
   "outputs": [],
   "source": [
    "RFM_Segmentation['Cluster'] = kmeans.labels_\n",
    "RFM_Segmentation"
   ]
  },
  {
   "cell_type": "code",
   "execution_count": null,
   "id": "6b26c876",
   "metadata": {
    "pycharm": {
     "name": "#%%\n"
    }
   },
   "outputs": [],
   "source": [
    "print(\"Number of Cluster: \", RFM_Segmentation['Cluster'].nunique())"
   ]
  },
  {
   "cell_type": "code",
   "execution_count": null,
   "id": "bfff07cf",
   "metadata": {
    "pycharm": {
     "name": "#%%\n"
    }
   },
   "outputs": [],
   "source": [
    "RFM_Segmentation[RFM_Segmentation.Cluster == 0].head(10)"
   ]
  },
  {
   "cell_type": "markdown",
   "id": "188327b6",
   "metadata": {},
   "source": [
    "### Create scatter plotsfor varous combinationof variabloes"
   ]
  },
  {
   "cell_type": "code",
   "execution_count": null,
   "id": "9d370c40",
   "metadata": {
    "pycharm": {
     "name": "#%%\n"
    }
   },
   "outputs": [],
   "source": [
    "    plt.figure(1 , figsize = (15 , 7))\n",
    "    n = 0 \n",
    "    for x in ['Recency' , 'Frequency' , 'Monetary']:\n",
    "        for y in ['Recency' , 'Frequency' , 'Monetary']:\n",
    "            n += 1\n",
    "            plt.subplot(3 , 3 , n)\n",
    "            plt.subplots_adjust(hspace = 0.5 , wspace = 0.5)\n",
    "            sns.regplot(x = x , y = y , data = RFM_Segmentation)\n",
    "            plt.ylabel(y.split()[0]+' '+y.split()[1] if len(y.split()) > 1 else y )\n",
    "    plt.show()"
   ]
  },
  {
   "cell_type": "code",
   "execution_count": 36,
   "id": "f01c05fc-139e-42fe-b5f7-dab1fd88bde3",
   "metadata": {},
   "outputs": [],
   "source": [
    "RFM_Segmentation.to_excel('RFM_Output.xlsx')"
   ]
  }
 ],
 "metadata": {
  "kernelspec": {
   "display_name": "Python 3 (ipykernel)",
   "language": "python",
   "name": "python3"
  },
  "language_info": {
   "codemirror_mode": {
    "name": "ipython",
    "version": 3
   },
   "file_extension": ".py",
   "mimetype": "text/x-python",
   "name": "python",
   "nbconvert_exporter": "python",
   "pygments_lexer": "ipython3",
   "version": "3.12.0"
  }
 },
 "nbformat": 4,
 "nbformat_minor": 5
}
